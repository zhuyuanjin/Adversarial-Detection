{
 "cells": [
  {
   "cell_type": "code",
   "execution_count": 49,
   "metadata": {},
   "outputs": [],
   "source": [
    "## 引入必要的包\n",
    "import os\n",
    "\n",
    "from itertools import zip_longest\n",
    "\n",
    "import torch \n",
    "from torch import nn\n",
    "from torchvision import datasets, transforms\n",
    "from torchvision.datasets import MNIST, CIFAR10, SVHN\n",
    "from torch.utils.data import Dataset, DataLoader, ConcatDataset\n",
    "\n",
    "import numpy as np\n",
    "\n",
    "from collections import OrderedDict\n",
    "\n",
    "import matplotlib.pyplot as plt\n",
    "\n",
    "from art.classifiers import PyTorchClassifier\n",
    "from art.attacks import ProjectedGradientDescent as PGD\n",
    "from art.attacks import FastGradientMethod as FGM\n",
    "\n",
    "from sklearn.decomposition import PCA\n",
    "from sklearn.neighbors.kde import KernelDensity\n",
    "from sklearn import tree"
   ]
  },
  {
   "cell_type": "code",
   "execution_count": 3,
   "metadata": {
    "collapsed": true
   },
   "outputs": [],
   "source": [
    "## 参数\n",
    "\n",
    "device = torch.device('cuda:0')\n",
    "batch_per_log = 100\n",
    "batch_size = 100\n",
    "num_workers = 4\n",
    "param_mnist_A = './data/param_mnist_A'\n",
    "param_mnist_B = './data/param_mnist_B'\n",
    "param_cifar_A = './data/param_cifar_A'\n",
    "param_cifar_B = './data/param_cifar_B'\n",
    "\n",
    "pgd_mnist_A = './data/adv/pgd_mnist_A.npy'\n",
    "pgd_mnist_B = './data/adv/pgd_mnist_B.npy'\n",
    "pgd_cifar_A = './data/adv/pgd_cifar_A.npy'\n",
    "pgd_cifar_B = './data/adv/pgd_cifar_B.npy'\n",
    "\n",
    "fgm_mnist_A = './data/adv/fgm_mnist_A.npy'\n",
    "fgm_mnist_B = './data/adv/fgm_mnist_B.npy'\n",
    "fgm_cifar_A = './data/adv/fgm_cifar_A.npy'\n",
    "fgm_cifar_B = './data/adv/fgm_cifar_B.npy'\n",
    "\n",
    "param_detector_classifier_cifar = './data/param_detector_classifier_cifar'\n",
    "\n",
    "craft = False"
   ]
  },
  {
   "cell_type": "code",
   "execution_count": 4,
   "metadata": {
    "collapsed": true
   },
   "outputs": [],
   "source": [
    "## 定义网络模型MnistNet\n",
    "\n",
    "class MnistNet(nn.Module):\n",
    "    def __init__(self, drop=0.5):\n",
    "        super(MnistNet, self).__init__()\n",
    "\n",
    "        self.num_channels = 1\n",
    "        self.num_labels = 10\n",
    "\n",
    "        activ = nn.ReLU(True)\n",
    "\n",
    "        self.feature_extractor = nn.Sequential(OrderedDict([\n",
    "            ('conv1', nn.Conv2d(self.num_channels, 32, 3)),\n",
    "            ('relu1', activ),\n",
    "            ('conv2', nn.Conv2d(32, 32, 3)),\n",
    "            ('relu2', activ),\n",
    "            ('maxpool1', nn.MaxPool2d(2, 2)),\n",
    "            ('conv3', nn.Conv2d(32, 64, 3)),\n",
    "            ('relu3', activ),\n",
    "            ('conv4', nn.Conv2d(64, 64, 3)),\n",
    "            ('relu4', activ),\n",
    "            ('maxpool2', nn.MaxPool2d(2, 2)),\n",
    "        ]))\n",
    "\n",
    "        self.classifier = nn.Sequential(OrderedDict([\n",
    "            ('fc1', nn.Linear(64 * 4 * 4, 200)),\n",
    "            ('relu1', activ),\n",
    "            ('drop', nn.Dropout(drop)),\n",
    "            ('fc2', nn.Linear(200, 200)),\n",
    "            ('relu2', activ),\n",
    "            ('fc3', nn.Linear(200, self.num_labels)),\n",
    "        ]))\n",
    "\n",
    "        for m in self.modules():\n",
    "            if isinstance(m, (nn.Conv2d)):\n",
    "                nn.init.kaiming_normal_(m.weight)\n",
    "                if m.bias is not None:\n",
    "                    nn.init.constant_(m.bias, 0)\n",
    "            elif isinstance(m, nn.BatchNorm2d):\n",
    "                nn.init.constant_(m.weight, 1)\n",
    "                nn.init.constant_(m.bias, 0)\n",
    "        nn.init.constant_(self.classifier.fc3.weight, 0)\n",
    "        nn.init.constant_(self.classifier.fc3.bias, 0)\n",
    "    def forward(self, input):\n",
    "        features = self.feature_extractor(input)\n",
    "        logits = self.classifier(features.view(-1, 64 * 4 * 4))\n",
    "        return logits"
   ]
  },
  {
   "cell_type": "code",
   "execution_count": 5,
   "metadata": {
    "collapsed": true
   },
   "outputs": [],
   "source": [
    "##定义模型 CiarNet\n",
    "class SmallCNN(nn.Module):\n",
    "    def __init__(self, drop=0.5):\n",
    "        super(SmallCNN, self).__init__()\n",
    "\n",
    "        self.num_channels = 3\n",
    "        self.num_labels = 10\n",
    "\n",
    "        activ = nn.ReLU(True)\n",
    "\n",
    "        self.feature_extractor = nn.Sequential(OrderedDict([\n",
    "            ('conv1', nn.Conv2d(self.num_channels, 64, 3, padding = 1)),\n",
    "            ('bn1', nn.BatchNorm2d(64)),\n",
    "            ('relu1', activ),\n",
    "            ('conv2', nn.Conv2d(64, 64, 3, padding=1)),\n",
    "            ('bn2', nn.BatchNorm2d(64)),\n",
    "            ('relu2', activ),\n",
    "            ('maxpool1', nn.MaxPool2d(2)),           \n",
    "            ('conv3', nn.Conv2d(64, 128, 3, padding=1)),\n",
    "            ('bn3', nn.BatchNorm2d(128)),\n",
    "            ('relu3', activ),\n",
    "            ('conv4', nn.Conv2d(128, 128, 3, padding=1)),\n",
    "            ('bn4', nn.BatchNorm2d(128)),\n",
    "            ('relu4', activ),\n",
    "            ('maxpool2', nn.MaxPool2d(2)),\n",
    "            ('conv5', nn.Conv2d(128, 196, 3, padding=1)),\n",
    "            ('bn5', nn.BatchNorm2d(196)),\n",
    "            ('relu5', activ),\n",
    "            ('conv6', nn.Conv2d(196, 196, 3, padding=1)),\n",
    "            ('bn6', nn.BatchNorm2d(196)),\n",
    "            ('relu6', activ),\n",
    "            ('maxpool3', nn.MaxPool2d(2)),\n",
    "        ]))\n",
    "\n",
    "        self.classifier = nn.Sequential(OrderedDict([\n",
    "            ('fc1', nn.Linear(196 * 4 * 4, 256)),\n",
    "            ('bn1', nn.BatchNorm1d(256)),\n",
    "            ('relu1', activ),\n",
    "            ('fc3', nn.Linear(256, self.num_labels)),\n",
    "            ]))\n",
    "        for m in self.modules():\n",
    "                if isinstance(m, (nn.Conv2d)):\n",
    "                    nn.init.kaiming_normal_(m.weight)\n",
    "                    if m.bias is not None:\n",
    "                        nn.init.constant_(m.bias, 0)\n",
    "                elif isinstance(m, nn.BatchNorm2d):\n",
    "                    nn.init.constant_(m.weight, 1)\n",
    "                    nn.init.constant_(m.bias, 0)\n",
    "            # nn.init.constant_(self.classifier.fc1.weight, 0)\n",
    "            # nn.init.constant_(self.classifier.fc1.bias, 0)\n",
    "        nn.init.constant_(self.classifier.fc3.weight, 0)\n",
    "        nn.init.constant_(self.classifier.fc3.bias, 0)\n",
    "\n",
    "\n",
    "        \n",
    "    def forward(self, input):\n",
    "        features = self.feature_extractor(input)\n",
    "        #print(features.size())\n",
    "        logits = self.classifier(features.view(-1, 196 * 4 * 4))\n",
    "        return logits"
   ]
  },
  {
   "cell_type": "code",
   "execution_count": 6,
   "metadata": {
    "collapsed": true
   },
   "outputs": [],
   "source": [
    "## 训练模型的方法\n",
    "def acc(model, dataloader, device=torch.device('cuda:0')):\n",
    "    cnt = 0\n",
    "    correct = 0\n",
    "    model = model.to(device)\n",
    "    for batch in dataloader:\n",
    "        image = batch[0].to(device)\n",
    "        label = batch[1].to(device)\n",
    "        pred = model(image)\n",
    "        correct += np.sum(label.cpu().numpy() == pred.max(1)[1].cpu().numpy())\n",
    "        cnt += dataloader.batch_size\n",
    "    return (correct * 100 / cnt)\n",
    "    \n",
    "\n",
    "def train(model, dataloader, file_path ,lr=1e-1, epoch=100, decay=[40, 80], device = torch.device('cuda:0')):\n",
    "    model = model.to(device)\n",
    "    opt = torch.optim.Adam(model.parameters(), lr=lr)\n",
    "    print(\"Begin with learning rate %f\" % lr)\n",
    "    loss_fn = nn.CrossEntropyLoss()\n",
    "    for e in range(epoch):\n",
    "        if e in decay:\n",
    "            for param_group in opt.param_groups:\n",
    "                param_group['lr'] /= 10\n",
    "            print(\"Learning rate decay into %f\" % opt.param_groups[0]['lr'])\n",
    "        total_loss = 0\n",
    "        for batch in dataloader:\n",
    "            image = batch[0].to(device)\n",
    "            label = batch[1].to(device)\n",
    "            pred = model(image)\n",
    "            loss = loss_fn(pred, label)\n",
    "            total_loss += loss.item()\n",
    "            opt.zero_grad()\n",
    "            loss.backward()\n",
    "            opt.step()\n",
    "        print(\"Epoch %d , loss %f\" %(e, total_loss / len(dataloader.dataset)))\n",
    "        torch.save(model.state_dict(), file_path+'_checkpoint')\n",
    "        \n",
    "    torch.save(model.state_dict(), file_path)"
   ]
  },
  {
   "cell_type": "code",
   "execution_count": 7,
   "metadata": {},
   "outputs": [
    {
     "data": {
      "text/plain": [
       "MnistNet(\n",
       "  (feature_extractor): Sequential(\n",
       "    (conv1): Conv2d(1, 32, kernel_size=(3, 3), stride=(1, 1))\n",
       "    (relu1): ReLU(inplace)\n",
       "    (conv2): Conv2d(32, 32, kernel_size=(3, 3), stride=(1, 1))\n",
       "    (relu2): ReLU(inplace)\n",
       "    (maxpool1): MaxPool2d(kernel_size=2, stride=2, padding=0, dilation=1, ceil_mode=False)\n",
       "    (conv3): Conv2d(32, 64, kernel_size=(3, 3), stride=(1, 1))\n",
       "    (relu3): ReLU(inplace)\n",
       "    (conv4): Conv2d(64, 64, kernel_size=(3, 3), stride=(1, 1))\n",
       "    (relu4): ReLU(inplace)\n",
       "    (maxpool2): MaxPool2d(kernel_size=2, stride=2, padding=0, dilation=1, ceil_mode=False)\n",
       "  )\n",
       "  (classifier): Sequential(\n",
       "    (fc1): Linear(in_features=1024, out_features=200, bias=True)\n",
       "    (relu1): ReLU(inplace)\n",
       "    (drop): Dropout(p=0.5)\n",
       "    (fc2): Linear(in_features=200, out_features=200, bias=True)\n",
       "    (relu2): ReLU(inplace)\n",
       "    (fc3): Linear(in_features=200, out_features=10, bias=True)\n",
       "  )\n",
       ")"
      ]
     },
     "execution_count": 7,
     "metadata": {},
     "output_type": "execute_result"
    }
   ],
   "source": [
    "##初始化数据集和model\n",
    "dataset_mnist_A = MNIST(root='./data/', train=True, transform=transforms.ToTensor())\n",
    "dataset_mnist_B = MNIST(root='./data/', train=False, transform=transforms.ToTensor())\n",
    "dataloader_mnist_A = DataLoader(dataset_mnist_A, batch_size=batch_size, num_workers=num_workers)\n",
    "dataloader_mnist_B = DataLoader(dataset_mnist_B, batch_size=batch_size, num_workers=num_workers)\n",
    "model_mnist_A = MnistNet()\n",
    "model_mnist_B = MnistNet()\n",
    "model_mnist_A.train()\n",
    "model_mnist_B.train()"
   ]
  },
  {
   "cell_type": "code",
   "execution_count": 8,
   "metadata": {},
   "outputs": [
    {
     "data": {
      "text/plain": [
       "SmallCNN(\n",
       "  (feature_extractor): Sequential(\n",
       "    (conv1): Conv2d(3, 64, kernel_size=(3, 3), stride=(1, 1), padding=(1, 1))\n",
       "    (bn1): BatchNorm2d(64, eps=1e-05, momentum=0.1, affine=True, track_running_stats=True)\n",
       "    (relu1): ReLU(inplace)\n",
       "    (conv2): Conv2d(64, 64, kernel_size=(3, 3), stride=(1, 1), padding=(1, 1))\n",
       "    (bn2): BatchNorm2d(64, eps=1e-05, momentum=0.1, affine=True, track_running_stats=True)\n",
       "    (relu2): ReLU(inplace)\n",
       "    (maxpool1): MaxPool2d(kernel_size=2, stride=2, padding=0, dilation=1, ceil_mode=False)\n",
       "    (conv3): Conv2d(64, 128, kernel_size=(3, 3), stride=(1, 1), padding=(1, 1))\n",
       "    (bn3): BatchNorm2d(128, eps=1e-05, momentum=0.1, affine=True, track_running_stats=True)\n",
       "    (relu3): ReLU(inplace)\n",
       "    (conv4): Conv2d(128, 128, kernel_size=(3, 3), stride=(1, 1), padding=(1, 1))\n",
       "    (bn4): BatchNorm2d(128, eps=1e-05, momentum=0.1, affine=True, track_running_stats=True)\n",
       "    (relu4): ReLU(inplace)\n",
       "    (maxpool2): MaxPool2d(kernel_size=2, stride=2, padding=0, dilation=1, ceil_mode=False)\n",
       "    (conv5): Conv2d(128, 196, kernel_size=(3, 3), stride=(1, 1), padding=(1, 1))\n",
       "    (bn5): BatchNorm2d(196, eps=1e-05, momentum=0.1, affine=True, track_running_stats=True)\n",
       "    (relu5): ReLU(inplace)\n",
       "    (conv6): Conv2d(196, 196, kernel_size=(3, 3), stride=(1, 1), padding=(1, 1))\n",
       "    (bn6): BatchNorm2d(196, eps=1e-05, momentum=0.1, affine=True, track_running_stats=True)\n",
       "    (relu6): ReLU(inplace)\n",
       "    (maxpool3): MaxPool2d(kernel_size=2, stride=2, padding=0, dilation=1, ceil_mode=False)\n",
       "  )\n",
       "  (classifier): Sequential(\n",
       "    (fc1): Linear(in_features=3136, out_features=256, bias=True)\n",
       "    (bn1): BatchNorm1d(256, eps=1e-05, momentum=0.1, affine=True, track_running_stats=True)\n",
       "    (relu1): ReLU(inplace)\n",
       "    (fc3): Linear(in_features=256, out_features=10, bias=True)\n",
       "  )\n",
       ")"
      ]
     },
     "execution_count": 8,
     "metadata": {},
     "output_type": "execute_result"
    }
   ],
   "source": [
    "transform = transforms.Compose([\n",
    "    transforms.RandomCrop(32, padding=4),\n",
    "    transforms.RandomHorizontalFlip(),\n",
    "    transforms.ToTensor(),\n",
    "])\n",
    "\n",
    "\n",
    "dataset_cifar_A = CIFAR10(root='./data/', train=True, transform=transform)\n",
    "dataset_cifar_B = CIFAR10(root='./data/', train=False, transform=transform)\n",
    "dataloader_cifar_A = DataLoader(dataset_cifar_A, batch_size=batch_size, num_workers=num_workers)\n",
    "dataloader_cifar_B = DataLoader(dataset_cifar_B, batch_size=batch_size, num_workers=num_workers)\n",
    "\n",
    "model_cifar_A = SmallCNN()\n",
    "model_cifar_B = SmallCNN()\n",
    "\n",
    "model_cifar_A.train()\n",
    "model_cifar_B.train()"
   ]
  },
  {
   "cell_type": "code",
   "execution_count": 9,
   "metadata": {
    "scrolled": true
   },
   "outputs": [
    {
     "name": "stdout",
     "output_type": "stream",
     "text": [
      "Loading param ./data/param_mnist_A from saved\n",
      "Loading param ./data/param_mnist_B from saved\n",
      "Loading param ./data/param_cifar_A from saved\n",
      "Loading param ./data/param_cifar_B from saved\n"
     ]
    }
   ],
   "source": [
    "##训练模型\n",
    "if os.path.exists(param_mnist_A):\n",
    "    print(\"Loading param %s from saved\" % param_mnist_A)\n",
    "    model_mnist_A.load_state_dict(torch.load(param_mnist_A))\n",
    "else:\n",
    "    print('Begin to train %s' %param_mnist_A)\n",
    "    train(model_mnist_A, dataloader_mnist_A, param_mnist_A, lr = 1e-3, epoch=50, decay=[25])\n",
    "    \n",
    "if os.path.exists(param_mnist_B):\n",
    "    print(\"Loading param %s from saved\"% param_mnist_B)\n",
    "    model_mnist_B.load_state_dict(torch.load(param_mnist_B))\n",
    "else:\n",
    "    print(\"Begin to train %s\" % param_mnist_B)\n",
    "    train(model_mnist_B, dataloader_mnist_B, param_mnist_B, lr = 1e-3, epoch=50, decay=[25])\n",
    "if os.path.exists(param_cifar_A):\n",
    "    print(\"Loading param %s from saved\" % param_cifar_A)\n",
    "    model_cifar_A.load_state_dict(torch.load(param_cifar_A))\n",
    "else:\n",
    "    print('Begin to train %s' %param_cifar_A)\n",
    "    train(model_cifar_A, dataloader_cifar_A, param_cifar_A, lr = 1e-2, epoch=100, decay=[40,80])\n",
    "    \n",
    "if os.path.exists(param_cifar_B):\n",
    "    print(\"Loading param %s from saved\"% param_cifar_B)\n",
    "    model_cifar_B.load_state_dict(torch.load(param_cifar_B))\n",
    "else:\n",
    "    print(\"Begin to train %s\" % param_cifar_B)\n",
    "    train(model_cifar_B, dataloader_cifar_B, param_cifar_B, lr = 1e-2, epoch=100, decay=[40, 80])"
   ]
  },
  {
   "cell_type": "code",
   "execution_count": 10,
   "metadata": {},
   "outputs": [
    {
     "data": {
      "text/plain": [
       "SmallCNN(\n",
       "  (feature_extractor): Sequential(\n",
       "    (conv1): Conv2d(3, 64, kernel_size=(3, 3), stride=(1, 1), padding=(1, 1))\n",
       "    (bn1): BatchNorm2d(64, eps=1e-05, momentum=0.1, affine=True, track_running_stats=True)\n",
       "    (relu1): ReLU(inplace)\n",
       "    (conv2): Conv2d(64, 64, kernel_size=(3, 3), stride=(1, 1), padding=(1, 1))\n",
       "    (bn2): BatchNorm2d(64, eps=1e-05, momentum=0.1, affine=True, track_running_stats=True)\n",
       "    (relu2): ReLU(inplace)\n",
       "    (maxpool1): MaxPool2d(kernel_size=2, stride=2, padding=0, dilation=1, ceil_mode=False)\n",
       "    (conv3): Conv2d(64, 128, kernel_size=(3, 3), stride=(1, 1), padding=(1, 1))\n",
       "    (bn3): BatchNorm2d(128, eps=1e-05, momentum=0.1, affine=True, track_running_stats=True)\n",
       "    (relu3): ReLU(inplace)\n",
       "    (conv4): Conv2d(128, 128, kernel_size=(3, 3), stride=(1, 1), padding=(1, 1))\n",
       "    (bn4): BatchNorm2d(128, eps=1e-05, momentum=0.1, affine=True, track_running_stats=True)\n",
       "    (relu4): ReLU(inplace)\n",
       "    (maxpool2): MaxPool2d(kernel_size=2, stride=2, padding=0, dilation=1, ceil_mode=False)\n",
       "    (conv5): Conv2d(128, 196, kernel_size=(3, 3), stride=(1, 1), padding=(1, 1))\n",
       "    (bn5): BatchNorm2d(196, eps=1e-05, momentum=0.1, affine=True, track_running_stats=True)\n",
       "    (relu5): ReLU(inplace)\n",
       "    (conv6): Conv2d(196, 196, kernel_size=(3, 3), stride=(1, 1), padding=(1, 1))\n",
       "    (bn6): BatchNorm2d(196, eps=1e-05, momentum=0.1, affine=True, track_running_stats=True)\n",
       "    (relu6): ReLU(inplace)\n",
       "    (maxpool3): MaxPool2d(kernel_size=2, stride=2, padding=0, dilation=1, ceil_mode=False)\n",
       "  )\n",
       "  (classifier): Sequential(\n",
       "    (fc1): Linear(in_features=3136, out_features=256, bias=True)\n",
       "    (bn1): BatchNorm1d(256, eps=1e-05, momentum=0.1, affine=True, track_running_stats=True)\n",
       "    (relu1): ReLU(inplace)\n",
       "    (fc3): Linear(in_features=256, out_features=10, bias=True)\n",
       "  )\n",
       ")"
      ]
     },
     "execution_count": 10,
     "metadata": {},
     "output_type": "execute_result"
    }
   ],
   "source": [
    "model_mnist_A.eval()\n",
    "model_mnist_B.eval()\n",
    "model_cifar_A.eval()\n",
    "model_cifar_B.eval()"
   ]
  },
  {
   "cell_type": "code",
   "execution_count": 11,
   "metadata": {
    "collapsed": true
   },
   "outputs": [],
   "source": [
    "##  评估groundtruthdata 和  surrogatedata 的差距\n",
    "def gap_evaluate(model_A, model_B,dataloader_A, dataloader_B):\n",
    "    print('Evaluating the gap ......')\n",
    "    print('The accuaracy of groundtruth model on the groundtruth data %f'% acc(model_A, dataloader_A, device))\n",
    "    print('The accuaracy of surrogate model on the surrogate data %f'%acc(model_B, dataloader_B, device))\n",
    "    print('The accuaracy of groundtruth model on the surrogate data %f'%acc(model_A, dataloader_B, device))\n",
    "    print('The accuaracy of surrogate model on the groundtruth data %f'% acc(model_B, dataloader_A, device))"
   ]
  },
  {
   "cell_type": "code",
   "execution_count": 12,
   "metadata": {},
   "outputs": [
    {
     "name": "stdout",
     "output_type": "stream",
     "text": [
      "MNIST\n",
      "Evaluating the gap ......\n",
      "The accuaracy of groundtruth model on the groundtruth data 100.000000\n",
      "The accuaracy of surrogate model on the surrogate data 100.000000\n",
      "The accuaracy of groundtruth model on the surrogate data 99.480000\n",
      "The accuaracy of surrogate model on the groundtruth data 98.593333\n",
      "CIFAR10\n",
      "Evaluating the gap ......\n",
      "The accuaracy of groundtruth model on the groundtruth data 99.712000\n",
      "The accuaracy of surrogate model on the surrogate data 99.730000\n",
      "The accuaracy of groundtruth model on the surrogate data 90.580000\n",
      "The accuaracy of surrogate model on the groundtruth data 81.374000\n"
     ]
    }
   ],
   "source": [
    "print(\"MNIST\")\n",
    "gap_evaluate(model_mnist_A, model_mnist_B, dataloader_mnist_A, dataloader_mnist_B)\n",
    "print(\"CIFAR10\")\n",
    "gap_evaluate(model_cifar_A, model_cifar_B, dataloader_cifar_A, dataloader_cifar_B)"
   ]
  },
  {
   "cell_type": "code",
   "execution_count": 13,
   "metadata": {
    "collapsed": true
   },
   "outputs": [],
   "source": [
    "## 生成对抗样本\n",
    "classifier_mnist_A = PyTorchClassifier(model_mnist_A, nn.CrossEntropyLoss(), torch.optim.Adam(model_mnist_A.parameters()),  \\\n",
    "                                       (batch_size,1, 28, 28), 10)\n",
    "classifier_mnist_B = PyTorchClassifier(model_mnist_B, nn.CrossEntropyLoss(), torch.optim.Adam(model_mnist_B.parameters()), \\\n",
    "                                       (batch_size,1, 28, 28), 10)\n",
    "classifier_cifar_A = PyTorchClassifier(model_cifar_A, nn.CrossEntropyLoss(), torch.optim.Adam(model_cifar_A.parameters()), \\\n",
    "                                       (batch_size,1, 32, 32), 10)\n",
    "classifier_cifar_B = PyTorchClassifier(model_cifar_B, nn.CrossEntropyLoss(), torch.optim.Adam(model_cifar_B.parameters()),\\\n",
    "                                       (batch_size,1, 32, 32), 10)\n",
    "\n",
    "PGD_mnist_A = PGD(classifier_mnist_A, norm=np.inf, eps=0.3, eps_step=0.1, max_iter=40, targeted=False, num_random_init=0, batch_size=batch_size)\n",
    "FGM_mnist_A = FGM(classifier_mnist_A, norm=np.inf, eps=0.3, eps_step=0.3, targeted=False, num_random_init=0, batch_size=batch_size)\n",
    "\n",
    "PGD_mnist_B = PGD(classifier_mnist_B, norm=np.inf, eps=0.3, eps_step=0.1, max_iter=40, targeted=False, num_random_init=0, batch_size=batch_size)\n",
    "FGM_mnist_B = FGM(classifier_mnist_B, norm=np.inf, eps=0.3, eps_step=0.3, targeted=False, num_random_init=0, batch_size=batch_size)\n",
    "\n",
    "PGD_cifar_A = PGD(classifier_cifar_A,norm=np.inf, eps=0.031, eps_step=0.031/4, max_iter=40, targeted=False, num_random_init=0, batch_size=batch_size)\n",
    "FGM_cifar_A = FGM(classifier_cifar_A, norm=np.inf, eps=0.031, eps_step=0.031, targeted=False, num_random_init=0, batch_size=batch_size)\n",
    "\n",
    "PGD_cifar_B = PGD(classifier_cifar_B, norm=np.inf, eps=0.031, eps_step=0.031/4, max_iter=40, targeted=False, num_random_init=0, batch_size=batch_size)\n",
    "FGM_cifar_B = FGM(classifier_cifar_B, norm=np.inf, eps=0.031, eps_step=0.031, targeted=False, num_random_init=0, batch_size=batch_size)\n",
    "\n",
    "\n"
   ]
  },
  {
   "cell_type": "code",
   "execution_count": 14,
   "metadata": {
    "collapsed": true
   },
   "outputs": [],
   "source": [
    "def craft_adversarial_example(attacker, dataloader, filepath=None):\n",
    "    Xlst = []\n",
    "    ylst = []\n",
    "    cnt = 0\n",
    "    success = 0\n",
    "    correct = 0\n",
    "    for batch in dataloader:\n",
    "        image = batch[0].numpy()\n",
    "        label = batch[1].numpy()\n",
    "        pred = attacker.classifier.predict(image).argmax(axis=1)\n",
    "        adv = attacker.generate(image)\n",
    "        pred_adv = attacker.classifier.predict(adv).argmax(axis=1)\n",
    "        cnt += dataloader.batch_size\n",
    "        success += np.sum(pred_adv != label)\n",
    "        correct += np.sum(pred == label)\n",
    "        Xlst.append(adv[np.where(pred_adv!=label)])\n",
    "        ylst.append(label[np.where(pred_adv!=label)])\n",
    "        print('%d / %d' %(cnt, len(dataloader.dataset)), end='\\r')\n",
    "    print(\"The accuracy on the clean data %f\" % (correct * 100 / cnt ))\n",
    "    print(\"The accuracy on the adv is %f\" % ((cnt - success) * 100 / cnt))\n",
    "    print(\"Success rate of the attack is %f\" %(success * 100 / cnt))\n",
    "    if filepath is not None:\n",
    "        np.save(filepath, np.concatenate(Xlst, axis=0)) \n",
    "        np.save(filepath[:-4]+'.label', np.concatenate(ylst, axis=0))\n",
    "    return"
   ]
  },
  {
   "cell_type": "code",
   "execution_count": 15,
   "metadata": {
    "collapsed": true,
    "scrolled": true
   },
   "outputs": [],
   "source": [
    "if craft:\n",
    "    \n",
    "    craft_adversarial_example(PGD_mnist_A, dataloader_mnist_A,  pgd_mnist_A)\n",
    "    craft_adversarial_example(FGM_mnist_A, dataloader_mnist_A, fgm_mnist_A)\n",
    "\n",
    "    craft_adversarial_example(PGD_mnist_B, dataloader_mnist_B,  pgd_mnist_B)\n",
    "    craft_adversarial_example(FGM_mnist_B, dataloader_mnist_B, fgm_mnist_B)\n",
    "\n",
    "    craft_adversarial_example(PGD_cifar_A, dataloader_cifar_A, pgd_cifar_A)\n",
    "    craft_adversarial_example(FGM_cifar_A, dataloader_cifar_A, fgm_cifar_A)\n",
    "\n",
    "    craft_adversarial_example(PGD_cifar_B, dataloader_cifar_B, pgd_cifar_B)\n",
    "    craft_adversarial_example(FGM_cifar_B, dataloader_cifar_B, fgm_cifar_B)\n",
    "\n"
   ]
  },
  {
   "cell_type": "code",
   "execution_count": 16,
   "metadata": {
    "collapsed": true
   },
   "outputs": [],
   "source": [
    "class AdvDataset(Dataset):\n",
    "    def __init__(self, Xfile, yfile):\n",
    "        self.X = np.load(Xfile)\n",
    "        self.y = np.load(yfile)\n",
    "    def __len__(self):\n",
    "        return len(self.X)\n",
    "    def __getitem__(self, idx):\n",
    "        image = self.X[idx]\n",
    "        label = self.y[idx]\n",
    "        return (image, label)"
   ]
  },
  {
   "cell_type": "code",
   "execution_count": 17,
   "metadata": {},
   "outputs": [
    {
     "data": {
      "text/plain": [
       "0.0"
      ]
     },
     "execution_count": 17,
     "metadata": {},
     "output_type": "execute_result"
    }
   ],
   "source": [
    "acc(model_cifar_B, DataLoader(AdvDataset(pgd_cifar_B, pgd_cifar_B[:-4] + '.label.npy'), num_workers=num_workers, batch_size=batch_size), device)"
   ]
  },
  {
   "cell_type": "code",
   "execution_count": 18,
   "metadata": {},
   "outputs": [
    {
     "data": {
      "text/plain": [
       "0.0"
      ]
     },
     "execution_count": 18,
     "metadata": {},
     "output_type": "execute_result"
    }
   ],
   "source": [
    "acc(model_cifar_B, DataLoader(AdvDataset(fgm_cifar_B, fgm_cifar_B[:-4] + '.label.npy'), num_workers=num_workers, batch_size=batch_size), device)"
   ]
  },
  {
   "cell_type": "code",
   "execution_count": 19,
   "metadata": {},
   "outputs": [
    {
     "data": {
      "text/plain": [
       "0.0"
      ]
     },
     "execution_count": 19,
     "metadata": {},
     "output_type": "execute_result"
    }
   ],
   "source": [
    "acc(model_cifar_A, DataLoader(AdvDataset(pgd_cifar_A, pgd_cifar_A[:-4] + '.label.npy'), num_workers=num_workers, batch_size=batch_size), device)"
   ]
  },
  {
   "cell_type": "code",
   "execution_count": 20,
   "metadata": {},
   "outputs": [
    {
     "data": {
      "text/plain": [
       "0.0"
      ]
     },
     "execution_count": 20,
     "metadata": {},
     "output_type": "execute_result"
    }
   ],
   "source": [
    "acc(model_cifar_A, DataLoader(AdvDataset(fgm_cifar_A, fgm_cifar_A[:-4] + '.label.npy'), num_workers=num_workers, batch_size=batch_size), device)"
   ]
  },
  {
   "cell_type": "code",
   "execution_count": 21,
   "metadata": {},
   "outputs": [
    {
     "data": {
      "text/plain": [
       "0.0"
      ]
     },
     "execution_count": 21,
     "metadata": {},
     "output_type": "execute_result"
    }
   ],
   "source": [
    "acc(model_mnist_B, DataLoader(AdvDataset(pgd_mnist_B, pgd_mnist_B[:-4] + '.label.npy'), num_workers=num_workers, batch_size=batch_size), device)"
   ]
  },
  {
   "cell_type": "code",
   "execution_count": 22,
   "metadata": {},
   "outputs": [
    {
     "data": {
      "text/plain": [
       "0.0"
      ]
     },
     "execution_count": 22,
     "metadata": {},
     "output_type": "execute_result"
    }
   ],
   "source": [
    "acc(model_mnist_B, DataLoader(AdvDataset(fgm_mnist_B, fgm_mnist_B[:-4] + '.label.npy'), num_workers=num_workers, batch_size=batch_size), device)"
   ]
  },
  {
   "cell_type": "code",
   "execution_count": 23,
   "metadata": {},
   "outputs": [
    {
     "data": {
      "text/plain": [
       "0.0"
      ]
     },
     "execution_count": 23,
     "metadata": {},
     "output_type": "execute_result"
    }
   ],
   "source": [
    "acc(model_mnist_A, DataLoader(AdvDataset(pgd_mnist_A, pgd_mnist_A[:-4] + '.label.npy'), num_workers=num_workers, batch_size=batch_size), device)"
   ]
  },
  {
   "cell_type": "code",
   "execution_count": 24,
   "metadata": {},
   "outputs": [
    {
     "data": {
      "text/plain": [
       "0.0"
      ]
     },
     "execution_count": 24,
     "metadata": {},
     "output_type": "execute_result"
    }
   ],
   "source": [
    "acc(model_mnist_A, DataLoader(AdvDataset(fgm_mnist_A, fgm_mnist_A[:-4] + '.label.npy'), num_workers=num_workers, batch_size=batch_size), device)"
   ]
  },
  {
   "cell_type": "code",
   "execution_count": 25,
   "metadata": {},
   "outputs": [
    {
     "data": {
      "text/plain": [
       "SmallCNN(\n",
       "  (feature_extractor): Sequential(\n",
       "    (conv1): Conv2d(3, 64, kernel_size=(3, 3), stride=(1, 1), padding=(1, 1))\n",
       "    (bn1): BatchNorm2d(64, eps=1e-05, momentum=0.1, affine=True, track_running_stats=True)\n",
       "    (relu1): ReLU(inplace)\n",
       "    (conv2): Conv2d(64, 64, kernel_size=(3, 3), stride=(1, 1), padding=(1, 1))\n",
       "    (bn2): BatchNorm2d(64, eps=1e-05, momentum=0.1, affine=True, track_running_stats=True)\n",
       "    (relu2): ReLU(inplace)\n",
       "    (maxpool1): MaxPool2d(kernel_size=2, stride=2, padding=0, dilation=1, ceil_mode=False)\n",
       "    (conv3): Conv2d(64, 128, kernel_size=(3, 3), stride=(1, 1), padding=(1, 1))\n",
       "    (bn3): BatchNorm2d(128, eps=1e-05, momentum=0.1, affine=True, track_running_stats=True)\n",
       "    (relu3): ReLU(inplace)\n",
       "    (conv4): Conv2d(128, 128, kernel_size=(3, 3), stride=(1, 1), padding=(1, 1))\n",
       "    (bn4): BatchNorm2d(128, eps=1e-05, momentum=0.1, affine=True, track_running_stats=True)\n",
       "    (relu4): ReLU(inplace)\n",
       "    (maxpool2): MaxPool2d(kernel_size=2, stride=2, padding=0, dilation=1, ceil_mode=False)\n",
       "    (conv5): Conv2d(128, 196, kernel_size=(3, 3), stride=(1, 1), padding=(1, 1))\n",
       "    (bn5): BatchNorm2d(196, eps=1e-05, momentum=0.1, affine=True, track_running_stats=True)\n",
       "    (relu5): ReLU(inplace)\n",
       "    (conv6): Conv2d(196, 196, kernel_size=(3, 3), stride=(1, 1), padding=(1, 1))\n",
       "    (bn6): BatchNorm2d(196, eps=1e-05, momentum=0.1, affine=True, track_running_stats=True)\n",
       "    (relu6): ReLU(inplace)\n",
       "    (maxpool3): MaxPool2d(kernel_size=2, stride=2, padding=0, dilation=1, ceil_mode=False)\n",
       "  )\n",
       "  (classifier): Sequential(\n",
       "    (fc1): Linear(in_features=3136, out_features=256, bias=True)\n",
       "    (bn1): BatchNorm1d(256, eps=1e-05, momentum=0.1, affine=True, track_running_stats=True)\n",
       "    (relu1): ReLU(inplace)\n",
       "    (fc3): Linear(in_features=256, out_features=2, bias=True)\n",
       "  )\n",
       ")"
      ]
     },
     "execution_count": 25,
     "metadata": {},
     "output_type": "execute_result"
    }
   ],
   "source": [
    "detector_classifier_mnist = MnistNet()\n",
    "detector_classifier_mnist.classifier.fc3 = nn.Linear(200, 2, bias=True)\n",
    "detector_classifier_mnist.train()\n",
    "detector_classifier_cifar = SmallCNN()\n",
    "detector_classifier_cifar.classifier.fc3 = nn.Linear(256, 2)\n",
    "detector_classifier_cifar.train()"
   ]
  },
  {
   "cell_type": "code",
   "execution_count": 26,
   "metadata": {
    "collapsed": true
   },
   "outputs": [],
   "source": [
    "def train_detector(model, dataloader_clean, pgd_file, fgm_file, epoch, lr=1e-3, decay=[], device=torch.device('cuda:0')):\n",
    "    model = model.to(device)\n",
    "    batch_size = dataloader_clean.batch_size\n",
    "    n = len(dataloader_clean.dataset)\n",
    "    loss_fn = nn.CrossEntropyLoss()\n",
    "    pgd = np.load(pgd_file)\n",
    "    fgm = np.load(fgm_file)\n",
    "    adv = torch.tensor(np.concatenate([pgd, fgm], axis=0))\n",
    "    opt = torch.optim.Adam(model.parameters(), lr=lr)\n",
    "    print('Begin with Learning rate %f' %lr)\n",
    "    for e in range(epoch):\n",
    "        if e in decay:\n",
    "            for param_group in opt.param_groups:\n",
    "                param_group['lr'] /= 10\n",
    "            print(\"Learning rate decay into %f\" % opt.param_groups[0]['lr'])\n",
    "        total_loss = 0\n",
    "        cnt = 0\n",
    "        for i, clean in enumerate(dataloader_clean):\n",
    "            image = torch.cat([clean[0], adv[(i * batch_size) % n: min((i* batch_size) % n + batch_size,  n)]], dim=0).to(device)\n",
    "            label = torch.cat([torch.zeros(batch_size), torch.ones(len(image) - batch_size)]).to(device).long()\n",
    "#             print(image.shape)\n",
    "#             print(label.shape)\n",
    "            pred = model(image)\n",
    "#             print(pred.max(1)[1])\n",
    "            loss = loss_fn(pred, label)\n",
    "#             print(loss.item())\n",
    "            total_loss += loss.item()\n",
    "            \n",
    "            opt.zero_grad()\n",
    "            loss.backward()\n",
    "            opt.step()\n",
    "            \n",
    "        print(\"Epoch %d loss %f\" % (e, total_loss))"
   ]
  },
  {
   "cell_type": "code",
   "execution_count": 27,
   "metadata": {},
   "outputs": [
    {
     "name": "stdout",
     "output_type": "stream",
     "text": [
      "Begin with Learning rate 0.001000\n",
      "Epoch 0 loss 6.153110\n",
      "Epoch 1 loss 0.000533\n",
      "Epoch 2 loss 0.000137\n",
      "Epoch 3 loss 0.000090\n",
      "Epoch 4 loss 0.000102\n",
      "Epoch 5 loss 0.000056\n",
      "Epoch 6 loss 0.000109\n",
      "Epoch 7 loss 0.000065\n",
      "Epoch 8 loss 0.000034\n",
      "Epoch 9 loss 0.000040\n"
     ]
    }
   ],
   "source": [
    "train_detector(detector_classifier_mnist, dataloader_mnist_B,pgd_mnist_B, fgm_mnist_B, 10, device=device)"
   ]
  },
  {
   "cell_type": "code",
   "execution_count": 28,
   "metadata": {},
   "outputs": [
    {
     "name": "stdout",
     "output_type": "stream",
     "text": [
      "Begin with Learning rate 0.001000\n",
      "Epoch 0 loss 30.719531\n",
      "Epoch 1 loss 6.399493\n",
      "Epoch 2 loss 2.777339\n",
      "Epoch 3 loss 2.265008\n",
      "Epoch 4 loss 1.263271\n",
      "Epoch 5 loss 0.648414\n",
      "Epoch 6 loss 0.558166\n",
      "Epoch 7 loss 1.208184\n",
      "Epoch 8 loss 0.457944\n",
      "Epoch 9 loss 0.246271\n",
      "Epoch 10 loss 1.099340\n",
      "Epoch 11 loss 0.230009\n",
      "Epoch 12 loss 0.324518\n",
      "Epoch 13 loss 0.160090\n",
      "Epoch 14 loss 0.250855\n",
      "Learning rate decay into 0.000100\n",
      "Epoch 15 loss 0.062639\n",
      "Epoch 16 loss 0.073838\n",
      "Epoch 17 loss 0.046025\n",
      "Epoch 18 loss 0.049574\n",
      "Epoch 19 loss 0.030234\n",
      "Epoch 20 loss 0.069228\n",
      "Epoch 21 loss 0.050297\n",
      "Epoch 22 loss 0.030583\n",
      "Epoch 23 loss 0.037591\n",
      "Epoch 24 loss 0.017875\n",
      "Learning rate decay into 0.000010\n",
      "Epoch 25 loss 0.011460\n",
      "Epoch 26 loss 0.020364\n",
      "Epoch 27 loss 0.014318\n",
      "Epoch 28 loss 0.019117\n",
      "Epoch 29 loss 0.022526\n"
     ]
    }
   ],
   "source": [
    "train_detector(detector_classifier_cifar, dataloader_cifar_B,  pgd_cifar_B, fgm_cifar_B, 30, device=device,decay=[15, 25])"
   ]
  },
  {
   "cell_type": "code",
   "execution_count": 29,
   "metadata": {},
   "outputs": [
    {
     "data": {
      "text/plain": [
       "MnistNet(\n",
       "  (feature_extractor): Sequential(\n",
       "    (conv1): Conv2d(1, 32, kernel_size=(3, 3), stride=(1, 1))\n",
       "    (relu1): ReLU(inplace)\n",
       "    (conv2): Conv2d(32, 32, kernel_size=(3, 3), stride=(1, 1))\n",
       "    (relu2): ReLU(inplace)\n",
       "    (maxpool1): MaxPool2d(kernel_size=2, stride=2, padding=0, dilation=1, ceil_mode=False)\n",
       "    (conv3): Conv2d(32, 64, kernel_size=(3, 3), stride=(1, 1))\n",
       "    (relu3): ReLU(inplace)\n",
       "    (conv4): Conv2d(64, 64, kernel_size=(3, 3), stride=(1, 1))\n",
       "    (relu4): ReLU(inplace)\n",
       "    (maxpool2): MaxPool2d(kernel_size=2, stride=2, padding=0, dilation=1, ceil_mode=False)\n",
       "  )\n",
       "  (classifier): Sequential(\n",
       "    (fc1): Linear(in_features=1024, out_features=200, bias=True)\n",
       "    (relu1): ReLU(inplace)\n",
       "    (drop): Dropout(p=0.5)\n",
       "    (fc2): Linear(in_features=200, out_features=200, bias=True)\n",
       "    (relu2): ReLU(inplace)\n",
       "    (fc3): Linear(in_features=200, out_features=2, bias=True)\n",
       "  )\n",
       ")"
      ]
     },
     "execution_count": 29,
     "metadata": {},
     "output_type": "execute_result"
    }
   ],
   "source": [
    "detector_classifier_cifar.eval()\n",
    "detector_classifier_mnist.eval()"
   ]
  },
  {
   "cell_type": "code",
   "execution_count": 30,
   "metadata": {
    "collapsed": true
   },
   "outputs": [],
   "source": [
    "def eval_detector(model, dataloader_clean, pgd_file, fgm_file, device=torch.device('cuda:0')):\n",
    "    model = model.to(device)\n",
    "    batch_size = dataloader_clean.batch_size\n",
    "    n = len(dataloader_clean.dataset)\n",
    "    \n",
    "    pgd = np.load(pgd_file)\n",
    "    fgm = np.load(fgm_file)\n",
    "    adv = torch.tensor(np.concatenate([pgd, fgm], axis=0))\n",
    "    first_type_error = 0\n",
    "    second_type_error = 0\n",
    "    correct = 0\n",
    "    cnt = 0\n",
    "        \n",
    "    for i, clean in enumerate(dataloader_clean):\n",
    "        image = torch.cat([clean[0], adv[(i * batch_size) % n: min((i* batch_size) % n + batch_size,  n)]], dim=0).to(device)\n",
    "        label = torch.cat([torch.zeros(batch_size), torch.ones(len(image) - batch_size)]).numpy()\n",
    "#             print(image.shape)\n",
    "#             print(label.shape)\n",
    "        pred = model(image).max(1)[1].cpu().numpy()\n",
    "#             print(pred.max(1)[1])\n",
    "        correct += np.sum(pred == label)\n",
    "        first_type_error += np.sum(label * (1-pred))\n",
    "        second_type_error += np.sum((1-label) * pred)\n",
    "        cnt += len(clean[0])\n",
    "    print(\"Accuracy is %f\" % (correct * 50 /cnt))\n",
    "    print(\"First Type Error is %f \" % (first_type_error* 50/cnt))\n",
    "    print(\"Second Type Errot is %f\" %(second_type_error * 50 / cnt))\n",
    "    return \n",
    "            \n",
    "        \n",
    "\n"
   ]
  },
  {
   "cell_type": "code",
   "execution_count": 31,
   "metadata": {},
   "outputs": [
    {
     "name": "stdout",
     "output_type": "stream",
     "text": [
      "Accuracy is 99.904000\n",
      "First Type Error is 0.086000 \n",
      "Second Type Errot is 0.010000\n"
     ]
    }
   ],
   "source": [
    "eval_detector(detector_classifier_cifar, dataloader_cifar_A,  pgd_cifar_A, fgm_cifar_A)"
   ]
  },
  {
   "cell_type": "code",
   "execution_count": 32,
   "metadata": {},
   "outputs": [
    {
     "name": "stdout",
     "output_type": "stream",
     "text": [
      "Accuracy is 99.980000\n",
      "First Type Error is 0.000000 \n",
      "Second Type Errot is 0.020000\n"
     ]
    }
   ],
   "source": [
    "eval_detector(detector_classifier_cifar, dataloader_cifar_B,  pgd_cifar_B, fgm_cifar_B)"
   ]
  },
  {
   "cell_type": "code",
   "execution_count": 33,
   "metadata": {},
   "outputs": [
    {
     "name": "stdout",
     "output_type": "stream",
     "text": [
      "Accuracy is 100.000000\n",
      "First Type Error is 0.000000 \n",
      "Second Type Errot is 0.000000\n"
     ]
    }
   ],
   "source": [
    "eval_detector(detector_classifier_mnist, dataloader_mnist_B,  pgd_mnist_B, fgm_mnist_B)"
   ]
  },
  {
   "cell_type": "code",
   "execution_count": 34,
   "metadata": {},
   "outputs": [
    {
     "name": "stdout",
     "output_type": "stream",
     "text": [
      "Accuracy is 99.900000\n",
      "First Type Error is 0.086000 \n",
      "Second Type Errot is 0.014000\n"
     ]
    }
   ],
   "source": [
    "eval_detector(detector_classifier_cifar, dataloader_cifar_A,  pgd_cifar_A, fgm_cifar_A)"
   ]
  },
  {
   "cell_type": "code",
   "execution_count": 35,
   "metadata": {},
   "outputs": [
    {
     "name": "stdout",
     "output_type": "stream",
     "text": [
      "Using downloaded and verified file: ./data/train_32x32.mat\n"
     ]
    }
   ],
   "source": [
    "transform_svhn =  transforms.Compose([\n",
    "    transforms.Grayscale(1),\n",
    "    transforms.RandomCrop(28),\n",
    "    transforms.RandomHorizontalFlip(),\n",
    "    transforms.ToTensor(),\n",
    "])\n",
    "dataset_svhn = SVHN(root='./data/', download=True, transform=transform_svhn)\n",
    "dataloader_svhn = DataLoader(dataset_svhn, num_workers=num_workers, batch_size=batch_size)"
   ]
  },
  {
   "cell_type": "code",
   "execution_count": 36,
   "metadata": {},
   "outputs": [
    {
     "data": {
      "text/plain": [
       "21.46657571623465"
      ]
     },
     "execution_count": 36,
     "metadata": {},
     "output_type": "execute_result"
    }
   ],
   "source": [
    "acc(model_mnist_A, dataloader_svhn, device=device)"
   ]
  },
  {
   "cell_type": "code",
   "execution_count": 37,
   "metadata": {
    "collapsed": true
   },
   "outputs": [],
   "source": [
    "## 构建PCA Detector\n",
    "\n",
    "class PCADetector(object):\n",
    "    def __init__(self, domain, t, smoother=1e-3):\n",
    "        self.p = int(domain.size / domain.shape[0])\n",
    "        self.domain = domain.reshape(-1, self.p)\n",
    "        self.mean = np.mean(self.domain, axis=0)\n",
    "        self.cov = np.matmul((self.domain-self.mean).T, (self.domain-self.mean) ) / domain.shape[0]\n",
    "        self.u, self.s, self.v = np.linalg.svd(self.cov)\n",
    "        self.smoother = smoother\n",
    "        self.t = t\n",
    "        \n",
    "    def transform(self, image):\n",
    "        image = image.reshape(-1)-self.mean\n",
    "        y = np.matmul(image, self.u) /(np.sqrt(self.s) + self.smoother)\n",
    "        \n",
    "        return y\n",
    "        \n",
    "    def fit(self, adv_files):\n",
    "        adv = []\n",
    "        for file in adv_files:\n",
    "            adv.append(np.load(file))\n",
    "        adv = np.concatenate(adv, axis=0)\n",
    "        score =[]\n",
    "        label = []\n",
    "        for i in range(len(self.domain)):\n",
    "            image = self.domain[i]\n",
    "            y = self.transform(image)\n",
    "            s = np.var(y[self.t:])\n",
    "            label.append(0)\n",
    "            score.append(s)\n",
    "        for i in range(len(adv)):\n",
    "            image = adv[i]\n",
    "            y = self.transform(image)\n",
    "            s = np.var(y[self.t:])\n",
    "            label.append(1)\n",
    "            score.append(s)\n",
    "        \n",
    "        self.clf = clf = tree.DecisionTreeClassifier()\n",
    "        clf.fit(np.array(score).reshape(-1, 1), label)\n",
    "        \n",
    "    \n",
    "    def detect(self, image):\n",
    "        y = self.transform(image)\n",
    "        s = np.var(y[self.t:])\n",
    "        return self.clf.predict(np.array([[s]]))"
   ]
  },
  {
   "cell_type": "code",
   "execution_count": 38,
   "metadata": {},
   "outputs": [
    {
     "data": {
      "image/png": "[encoded data removed]",
      "text/plain": [
       "<Figure size 720x720 with 6 Axes>"
      ]
     },
     "metadata": {},
     "output_type": "display_data"
    }
   ],
   "source": [
    "## 对比对抗样本和普通图片的异同\n",
    "domain_mnist = dataset_mnist_B.data.numpy() / 255.0\n",
    "domain_cifar = dataset_cifar_B.data / 255.0\n",
    "pca_mnist = PCADetector(domain_mnist, t=500)\n",
    "pca_cifar = PCADetector(domain_cifar, smoother=0.1, t=2500)\n",
    "plt.figure(figsize=(10,10))\n",
    "for i in range(3):\n",
    "    idx = np.random.randint(0, 1000)\n",
    "    image_mnist = domain_mnist[idx]\n",
    "    image_cifar = domain_cifar[idx].transpose([2,0,1])\n",
    "    adv_mnist = PGD_mnist_B.generate(image_mnist[np.newaxis, np.newaxis, :, :])\n",
    "    adv_cifar = PGD_cifar_B.generate(image_cifar[np.newaxis, :, :, :])\n",
    "    plt.subplot(3,2,1 + i*2)\n",
    "    plt.plot(pca_mnist.transform(image_mnist), 'b', label='Clean')\n",
    "    plt.plot(pca_mnist.transform(adv_mnist), 'r', label = \"Adversarial\")\n",
    "    plt.title('MNIST')\n",
    "    plt.legend(['Adversarial Coefficients', 'Clean Coefficients'])\n",
    "    plt.subplot(3,2, 2+i*2)\n",
    "    plt.plot(pca_cifar.transform(image_cifar), 'b', label='Clean')\n",
    "    plt.plot(pca_cifar.transform(adv_cifar), 'r', label = \"Adversarial\")\n",
    "    plt.title('CIFAR')\n",
    "    plt.legend(['Clean Coefficients' , 'Adversarial Coefficients'])\n",
    "plt.show()\n",
    "\n",
    "pca_mnist.fit([pgd_mnist_B, fgm_mnist_B])\n",
    "pca_cifar.fit([pgd_cifar_B, fgm_cifar_B])"
   ]
  },
  {
   "cell_type": "code",
   "execution_count": 39,
   "metadata": {
    "collapsed": true
   },
   "outputs": [],
   "source": [
    "##测试效果\n",
    "def evaluate(pca_detector, clean, adv):\n",
    "    nc = len(clean)\n",
    "    na = len(adv)\n",
    "    clean_label = []\n",
    "    adv_label = []\n",
    "    for image in clean:\n",
    "        clean_label.append(pca_detector.detect(image))\n",
    "    for image in adv:\n",
    "        adv_label.append(pca_detector.detect(image))\n",
    "    clean_label = np.concatenate(clean_label)\n",
    "    adv_label = np.concatenate(adv_label)\n",
    "    correct_clean = np.sum(clean_label == np.zeros_like(clean_label))\n",
    "    correct_adv = np.sum(adv_label == np.ones_like(adv_label))\n",
    "    print(\"The accuracy is %f\" % ((100 * correct_clean + 100 * correct_adv) / (na + nc)))\n",
    "    print(\"The first type error is %f\" % (100 * (nc - correct_clean) / (na + nc)))\n",
    "    print(\"The second type error is %f\" % (100 * (na - correct_adv) / (na + nc)))\n",
    "    return"
   ]
  },
  {
   "cell_type": "code",
   "execution_count": 40,
   "metadata": {},
   "outputs": [
    {
     "name": "stdout",
     "output_type": "stream",
     "text": [
      "The accuracy is 100.000000\n",
      "The first type error is 0.000000\n",
      "The second type error is 0.000000\n"
     ]
    }
   ],
   "source": [
    "evaluate(pca_mnist, dataset_mnist_A.data.numpy()/255.0, np.load(pgd_mnist_A))"
   ]
  },
  {
   "cell_type": "code",
   "execution_count": 41,
   "metadata": {},
   "outputs": [
    {
     "name": "stdout",
     "output_type": "stream",
     "text": [
      "The accuracy is 99.954924\n",
      "The first type error is 0.045076\n",
      "The second type error is 0.000000\n"
     ]
    }
   ],
   "source": [
    "evaluate(pca_cifar, dataset_cifar_A.data/255.0, np.load(pgd_cifar_A))"
   ]
  },
  {
   "cell_type": "code",
   "execution_count": 42,
   "metadata": {
    "collapsed": true
   },
   "outputs": [],
   "source": [
    "## 把数据降低维度之后放入分类器\n",
    "pca_mnist = PCA(n_components=500)\n",
    "pca_mnist.fit(dataset_mnist_B.data.numpy().reshape(-1, 784)/255.0)\n",
    "pca_cifar = PCA(n_components=2000)\n",
    "pca_cifar = pca_cifar.fit(X = dataset_cifar_B.data.reshape(-1, 3072)/ 255.0)\n"
   ]
  },
  {
   "cell_type": "code",
   "execution_count": 43,
   "metadata": {},
   "outputs": [
    {
     "name": "stdout",
     "output_type": "stream",
     "text": [
      "tensor(6324100, device='cuda:0')\n",
      "tensor(10172500, device='cuda:0')\n",
      "Accuracy 38.000000\n",
      "Fisrt type error 0.000000\n",
      "Fisrt type error 61.000000\n"
     ]
    }
   ],
   "source": [
    "clean_correct = 0\n",
    "adv_correct = 0\n",
    "adv = np.concatenate([np.load(pgd_mnist_A), np.load(fgm_mnist_A)], axis=0)\n",
    "nc = len(dataloader_mnist_A.dataset)\n",
    "na = len(adv)\n",
    "for batch in dataloader_mnist_A:\n",
    "    image_reduce = pca_mnist.transform(batch[0].numpy().reshape(-1, 784))\n",
    "    image_recon = torch.tensor(pca_mnist.inverse_transform(image_reduce).reshape(-1, 1, 28, 28)).to(device)\n",
    "    label_recon = model_mnist_A.to(device).double()(image_recon).max(1)[1]\n",
    "    label = batch[1].to(device)\n",
    "    clean_correct += torch.sum(label == label_recon).item()\n",
    "for i in range(0, len(adv) - batch_size, batch_size):\n",
    "   \n",
    "    image_reduce = pca_mnist.transform(adv[i:i+batch_size].reshape(-1, 784))\n",
    "    image_recon = torch.tensor(pca_mnist.inverse_transform(image_reduce).reshape(-1, 1, 28, 28)).to(device)\n",
    "    image = torch.tensor(adv[i:i+batch_size]).to(device)\n",
    "    \n",
    "    label = model_mnist_A.to(device)(image.double()).max(1)[1]\n",
    "    label_recon = model_mnist_A.to(device).double()(image_recon).max(1)[1]\n",
    "    adv_correct += torch.sum(label != label_recon)\n",
    "print(100 * (clean_correct + adv_correct))\n",
    "print(100 * (na - adv_correct))\n",
    "print(\"Accuracy %f\" % (100 * (clean_correct + adv_correct) / (nc + na)))\n",
    "print(\"Fisrt type error %f\" %(100 * (nc - clean_correct) /  (nc+na)))\n",
    "print(\"Fisrt type error %f\" %(100 * (na - adv_correct) /  (nc + na)))\n"
   ]
  },
  {
   "cell_type": "code",
   "execution_count": 44,
   "metadata": {},
   "outputs": [
    {
     "name": "stdout",
     "output_type": "stream",
     "text": [
      "Accuracy 41.000000\n",
      "Fisrt type error 14.585439\n",
      "Fisrt type error 44.000000\n"
     ]
    }
   ],
   "source": [
    "clean_correct = 0\n",
    "adv_correct = 0\n",
    " \n",
    "adv = np.concatenate([np.load(pgd_cifar_A), np.load(fgm_cifar_A)], axis=0)\n",
    "for batch in dataloader_cifar_A:\n",
    "    image_reduce = pca_cifar.transform(batch[0].numpy().reshape(-1, 3072))\n",
    "    image_recon = torch.tensor(pca_cifar.inverse_transform(image_reduce).reshape(-1, 3, 32, 32)).to(device)\n",
    "    label_recon = model_cifar_A.to(device).double()(image_recon).max(1)[1]\n",
    "    label = batch[1].to(device)\n",
    "    clean_correct += torch.sum(label == label_recon).item()\n",
    "for i in range(0, len(adv) - batch_size, batch_size):\n",
    "    image_reduce = pca_cifar.transform(adv[i:i+batch_size].reshape(-1, 3072))\n",
    "    image_recon = torch.tensor(pca_cifar.inverse_transform(image_reduce).reshape(-1, 3, 32, 32)).to(device)\n",
    "    image = torch.tensor(adv[i:i+batch_size]).to(device)\n",
    "    \n",
    "    label = model_cifar_A.to(device)(image.double()).max(1)[1]\n",
    "    label_recon = model_cifar_A.to(device).double()(image_recon).max(1)[1]\n",
    "    adv_correct += torch.sum(label != label_recon)\n",
    "    \n",
    "print(\"Accuracy %f\" % (100 * (clean_correct + adv_correct) / (len(dataloader_mnist_A.dataset) + len(adv))))\n",
    "print(\"Fisrt type error %f\" %(100 * (len(dataloader_mnist_A.dataset) - clean_correct) /  (len(dataloader_mnist_A.dataset) + len(adv))))\n",
    "print(\"Fisrt type error %f\" %(100 * (len(adv) - adv_correct) /  (len(dataloader_mnist_A.dataset) + len(adv))))\n"
   ]
  },
  {
   "cell_type": "code",
   "execution_count": 71,
   "metadata": {
    "collapsed": true
   },
   "outputs": [],
   "source": [
    "class KDEDetector(object):\n",
    "    def __init__(self, model, dataloader_clean, dataloader_adv, device=torch.device(\"cuda:0\")):\n",
    "        self.clean = dataloader_clean\n",
    "        self.adv = dataloader_adv\n",
    "        self.kde = KernelDensity(kernel='gaussian')\n",
    "        self.clf = tree.DecisionTreeClassifier()\n",
    "        self.model = model.to(device)\n",
    "    \n",
    "        \n",
    "    def fit(self):\n",
    "        logits = []\n",
    "        y = []\n",
    "        for batch in self.clean:\n",
    "            image = batch[0].to(device)\n",
    "            act = self.model(image)\n",
    "            logits.append(act.detach().cpu().numpy())\n",
    "            y.append(np.zeros(image.shape[0]))\n",
    "            \n",
    "        for batch in self.adv:\n",
    "            image = batch[0].to(device)\n",
    "            act = self.model(image)\n",
    "            logits.append(act.detach().cpu().numpy())\n",
    "            y.append(np.ones(image.shape[0]))\n",
    "        \n",
    "        logits = np.concatenate(logits, axis=0)\n",
    "        y = np.concatenate(y, axis=0)\n",
    "       \n",
    "        self.kde.fit(logits)\n",
    "        X = self.kde.score_samples(logits)\n",
    "        \n",
    "        self.clf.fit(X.reshape(-1, 1), y)\n",
    "        \n",
    "    def detect(self, test):\n",
    "        logits = []\n",
    "        y = []\n",
    "        for batch in  test:\n",
    "            image = batch[0].to(device)\n",
    "            act = self.model(image)\n",
    "            logits.append(act.detach().cpu().numpy())\n",
    "        logits = np.concatenate(logits, axis=0)\n",
    "        X = self.kde.score_samples(logits)\n",
    "        y = self.clf.predict(X.reshape(-1, 1))\n",
    "        return y"
   ]
  },
  {
   "cell_type": "code",
   "execution_count": 93,
   "metadata": {},
   "outputs": [
    {
     "name": "stdout",
     "output_type": "stream",
     "text": [
      "Accuracy: 66.982893\n",
      "First Type Error: 32.776451\n",
      "Second Type Error: 0.240656 \n"
     ]
    }
   ],
   "source": [
    "dataset_adv_mnist_B = ConcatDataset([AdvDataset(fgm_mnist_B, fgm_mnist_B[:-4] + '.label.npy'),AdvDataset(pgd_mnist_B, pgd_mnist_B[:-4] + '.label.npy') ])\n",
    "dataloader_adv_mnist_B = DataLoader(dataset_adv_mnist_B, num_workers=num_workers, batch_size=batch_size)\n",
    "dataset_adv_mnist_A = ConcatDataset([AdvDataset(fgm_mnist_A, fgm_mnist_A[:-4] + '.label.npy'),AdvDataset(pgd_mnist_A, pgd_mnist_A[:-4] + '.label.npy') ])\n",
    "dataloader_adv_mnist_A = DataLoader(dataset_adv_mnist_A, num_workers=num_workers, batch_size=batch_size)\n",
    "kde_mnist = KDEDetector(model_mnist_B,dataloader_mnist_B , dataloader_adv_mnist_B)\n",
    "kde_mnist.fit()\n",
    "pred_mnist_A = kde_mnist.detect(dataloader_mnist_A)\n",
    "pred_mnist_adv_A = kde_mnist.detect(dataloader_adv_mnist_A)\n",
    "print(\"Accuracy: %f\" % (100 * (np.sum(pred_mnist_A==0) + np.sum(pred_mnist_adv_A==1)) / (len(pred_mnist_A) + len(pred_mnist_adv_A))))\n",
    "print(\"First Type Error: %f\" % (100 * (np.sum(pred_mnist_A==1)) / (len(pred_mnist_A) + len(pred_mnist_adv_A))))\n",
    "print(\"Second Type Error: %f \" % (100 * (np.sum(pred_mnist_adv_A==0)) / (len(pred_mnist_A) + len(pred_mnist_adv_A))) )"
   ]
  },
  {
   "cell_type": "code",
   "execution_count": 98,
   "metadata": {},
   "outputs": [
    {
     "name": "stdout",
     "output_type": "stream",
     "text": [
      "Accuracy: 65.369165\n",
      "First Type Error: 34.630835\n",
      "Second Type Error: 0.000000 \n"
     ]
    }
   ],
   "source": [
    "dataset_adv_cifar_B = ConcatDataset([AdvDataset(fgm_cifar_B, fgm_cifar_B[:-4] + '.label.npy'),AdvDataset(pgd_cifar_B, pgd_cifar_B[:-4] + '.label.npy') ])\n",
    "dataloader_adv_cifar_B = DataLoader(dataset_adv_cifar_B, num_workers=num_workers, batch_size=batch_size)\n",
    "dataset_adv_cifar_A = ConcatDataset([AdvDataset(fgm_cifar_A, fgm_cifar_A[:-4] + '.label.npy'),AdvDataset(pgd_cifar_A, pgd_cifar_A[:-4] + '.label.npy') ])\n",
    "dataloader_adv_cifar_A = DataLoader(dataset_adv_cifar_A, num_workers=num_workers, batch_size=batch_size)\n",
    "kde_cifar = KDEDetector(model_cifar_B,dataloader_cifar_B , dataloader_adv_cifar_B)\n",
    "kde_cifar.fit()\n",
    "pred_cifar_A = kde_cifar.detect(dataloader_cifar_A)\n",
    "pred_cifar_adv_A = kde_cifar.detect(dataloader_adv_cifar_A)\n",
    "print(\"Accuracy: %f\" % (100 * (np.sum(pred_cifar_A==0) + np.sum(pred_cifar_adv_A==1)) / (len(pred_cifar_A) + len(pred_cifar_adv_A))))\n",
    "print(\"First Type Error: %f\" % (100 * (np.sum(pred_cifar_A==1)) / (len(pred_cifar_A) + len(pred_cifar_adv_A))))\n",
    "print(\"Second Type Error: %f \" % (100 * (np.sum(pred_cifar_adv_A==0)) / (len(pred_cifar_A) + len(pred_cifar_adv_A))))"
   ]
  },
  {
   "cell_type": "code",
   "execution_count": 89,
   "metadata": {},
   "outputs": [],
   "source": []
  },
  {
   "cell_type": "code",
   "execution_count": 91,
   "metadata": {},
   "outputs": [
    {
     "data": {
      "text/plain": [
       "104569"
      ]
     },
     "execution_count": 91,
     "metadata": {},
     "output_type": "execute_result"
    }
   ],
   "source": []
  },
  {
   "cell_type": "code",
   "execution_count": null,
   "metadata": {
    "collapsed": true
   },
   "outputs": [],
   "source": [
    "class LIDDetector(object):\n",
    "    def __init__(self, model, dataloader_clean, dataloader_adv):\n",
    "        self.model = model\n",
    "        self.clean = dataloader_clean\n",
    "        self.adv = dataloader_adv\n",
    "    def fit():\n",
    "        y = []\n",
    "        for batch in self.clean:\n",
    "            image = batch[0]\n",
    "            "
   ]
  },
  {
   "cell_type": "code",
   "execution_count": 101,
   "metadata": {},
   "outputs": [
    {
     "name": "stdout",
     "output_type": "stream",
     "text": [
      "Sequential(\n",
      "  (conv1): Conv2d(1, 32, kernel_size=(3, 3), stride=(1, 1))\n",
      "  (relu1): ReLU(inplace)\n",
      "  (conv2): Conv2d(32, 32, kernel_size=(3, 3), stride=(1, 1))\n",
      "  (relu2): ReLU(inplace)\n",
      "  (maxpool1): MaxPool2d(kernel_size=2, stride=2, padding=0, dilation=1, ceil_mode=False)\n",
      "  (conv3): Conv2d(32, 64, kernel_size=(3, 3), stride=(1, 1))\n",
      "  (relu3): ReLU(inplace)\n",
      "  (conv4): Conv2d(64, 64, kernel_size=(3, 3), stride=(1, 1))\n",
      "  (relu4): ReLU(inplace)\n",
      "  (maxpool2): MaxPool2d(kernel_size=2, stride=2, padding=0, dilation=1, ceil_mode=False)\n",
      ")\n",
      "Sequential(\n",
      "  (fc1): Linear(in_features=1024, out_features=200, bias=True)\n",
      "  (relu1): ReLU(inplace)\n",
      "  (drop): Dropout(p=0.5)\n",
      "  (fc2): Linear(in_features=200, out_features=200, bias=True)\n",
      "  (relu2): ReLU(inplace)\n",
      "  (fc3): Linear(in_features=200, out_features=10, bias=True)\n",
      ")\n"
     ]
    }
   ],
   "source": []
  },
  {
   "cell_type": "code",
   "execution_count": null,
   "metadata": {
    "collapsed": true
   },
   "outputs": [],
   "source": []
  }
 ],
 "metadata": {
  "kernelspec": {
   "display_name": "Python 3",
   "language": "python",
   "name": "python3"
  },
  "language_info": {
   "codemirror_mode": {
    "name": "ipython",
    "version": 3
   },
   "file_extension": ".py",
   "mimetype": "text/x-python",
   "name": "python",
   "nbconvert_exporter": "python",
   "pygments_lexer": "ipython3",
   "version": "3.6.8"
  }
 },
 "nbformat": 4,
 "nbformat_minor": 2
}
